{
 "cells": [
  {
   "cell_type": "code",
   "execution_count": 1,
   "metadata": {},
   "outputs": [],
   "source": [
    "%load_ext blackcellmagic\n",
    "\n",
    "from datetime import datetime\n",
    "from itertools import combinations, permutations\n",
    "from numpy import genfromtxt\n",
    "import numpy as np\n",
    "from scipy.stats import norm\n",
    "from sklearn.linear_model import LinearRegression\n",
    "import networkx as nx\n",
    "import matplotlib.pyplot as plt\n"
   ]
  },
  {
   "cell_type": "code",
   "execution_count": 2,
   "metadata": {},
   "outputs": [],
   "source": [
    "pc_data = genfromtxt(\"/home/sep/Desktop/pc-algorithms/data/pc-data.csv\")\n",
    "\n",
    "\n",
    "confidence_level = 0.02\n",
    "\n",
    "\n",
    "def adjacent_count(adj_mat, i):\n",
    "    return np.count_nonzero(adj_mat[i, :])\n",
    "\n",
    "\n",
    "def loop1_check(adj_mat, lvl):\n",
    "    for i in range(adj_mat.shape[1] - 1):\n",
    "        for j in range(i + 1, adj_mat.shape[1]):\n",
    "            if adjacent_count(adj_mat, i) - 1 >= lvl:\n",
    "                return False\n",
    "\n",
    "    return True\n",
    "\n",
    "\n",
    "def partial_correlation(i, j, k_sub, data, test_type):\n",
    "    if test_type is \"recursive\":\n",
    "        if len(k_sub) == 0:\n",
    "            return np.corrcoef(data[:, i], data[:, j])[0, 1]\n",
    "\n",
    "        else:\n",
    "            rho_ij_kh = partial_correlation(i, j, k_sub[1:], data, \"recursive\")\n",
    "            rho_ih_kh = partial_correlation(i, k_sub[0], k_sub[1:], data, \"recursive\")\n",
    "            rho_jh_kh = partial_correlation(j, k_sub[0], k_sub[1:], data, \"recursive\")\n",
    "\n",
    "            return (rho_ij_kh - rho_ih_kh * rho_jh_kh) / np.sqrt(\n",
    "                (1 - rho_ih_kh ** 2) * (1 - rho_jh_kh ** 2)\n",
    "            )\n",
    "        \n",
    "    elif test_type is \"regression\":\n",
    "        if len(k_sub) == 0:\n",
    "            return np.corrcoef(data[:, i], data[:, j])[0, 1]\n",
    "        \n",
    "        else:\n",
    "            i_residual = data[:, i] - LinearRegression().fit(data[:, k_sub], data[:, i]).predict(data[:, k_sub])\n",
    "            \n",
    "            j_residual = data[:, j] - LinearRegression().fit(data[:, k_sub], data[:, j]).predict(data[:, k_sub])\n",
    "            \n",
    "            return np.corrcoef(i_residual, j_residual)[0, 1]\n",
    "\n",
    "def check_conditional_independence(conf_lvl, i, j, k_sub, data):\n",
    "    rho_ij_k = partial_correlation(i, j, k_sub, data, \"recursive\")\n",
    "#     print(k_sub)\n",
    "    z_ij_k = np.log((1 + rho_ij_k) / (1 - rho_ij_k)) / 2\n",
    "    if np.sqrt(data.shape[0] - len(k_sub) - 3) * np.abs(z_ij_k) <= norm.ppf(1 - conf_lvl / 2):\n",
    "        return True\n",
    "    else:\n",
    "        return False\n",
    "        \n"
   ]
  },
  {
   "cell_type": "code",
   "execution_count": 3,
   "metadata": {},
   "outputs": [],
   "source": [
    "def pc_pop(data, conf_lvl, silent):\n",
    "    adj_mat = np.ones((data.shape[1], data.shape[1])) - np.diag(\n",
    "        [1 for i in range(data.shape[1])]\n",
    "    )\n",
    "    level = -1\n",
    "    while True:\n",
    "        if not silent:\n",
    "            print(f\"Level {level} completed. Current time: {datetime.now()}\")\n",
    "        level += 1\n",
    "        for i, j in permutations(range(data.shape[1]), 2):\n",
    "            if adj_mat[i, j] == 1 and adjacent_count(adj_mat, i) - 1 >= level:\n",
    "                adj_i_j = list(np.nonzero(adj_mat[i, :])[0])\n",
    "                adj_i_j.remove(j)\n",
    "                for k in combinations(adj_i_j, level):\n",
    "                    if check_conditional_independence(conf_lvl, i, j, k, data) is True:\n",
    "                        adj_mat[i, j] = 0\n",
    "\n",
    "                    if adj_mat[i, j] == 0:\n",
    "                        break\n",
    "\n",
    "        if loop1_check(adj_mat, level) is True:\n",
    "            break\n",
    "\n",
    "    return adj_mat\n"
   ]
  },
  {
   "cell_type": "code",
   "execution_count": null,
   "metadata": {},
   "outputs": [
    {
     "name": "stdout",
     "output_type": "stream",
     "text": [
      "Level -1 completed. Current time: 2018-12-15 11:38:43.976516\n",
      "Level 0 completed. Current time: 2018-12-15 11:38:58.569686\n"
     ]
    }
   ],
   "source": [
    "estimated_skeleton = pc_pop(pc_data, confidence_level, 0)\n"
   ]
  },
  {
   "cell_type": "code",
   "execution_count": null,
   "metadata": {},
   "outputs": [],
   "source": [
    "np.count_nonzero(estimated_skeleton)"
   ]
  },
  {
   "cell_type": "code",
   "execution_count": null,
   "metadata": {},
   "outputs": [],
   "source": [
    "G_pop = nx.from_numpy_matrix(estimated_skeleton)\n",
    "nx.draw(G_pop)\n",
    "plt.show()"
   ]
  },
  {
   "cell_type": "code",
   "execution_count": null,
   "metadata": {},
   "outputs": [],
   "source": [
    "def pc_stable(data, conf_lvl, silent):\n",
    "    adj_mat = np.ones((data.shape[1], data.shape[1])) - np.diag(\n",
    "        [1 for i in range(data.shape[1])]\n",
    "    )\n",
    "    level = -1\n",
    "    removed_edges = []\n",
    "    while True:\n",
    "        if not silent:\n",
    "            print(f\"Level {level} completed. Current time: {datetime.now()}\")\n",
    "        level += 1\n",
    "        for i, j in permutations(range(data.shape[1]), 2):\n",
    "            if adj_mat[i, j] == 1 and adjacent_count(adj_mat, i) - 1 >= level:\n",
    "                adj_i_j = list(np.nonzero(adj_mat[i, :])[0])\n",
    "                adj_i_j.remove(j)\n",
    "                for k in combinations(adj_i_j, level):\n",
    "                    if check_conditional_independence(conf_lvl, i, j, k, data) is True:\n",
    "                        removed_edges.append((i, j))\n",
    "\n",
    "                    if adj_mat[i, j] == 0:\n",
    "                        break\n",
    "\n",
    "        if loop1_check(adj_mat, level) is True:\n",
    "            break\n",
    "            \n",
    "    for i, j in removed_edges:\n",
    "        adj_mat[i, j] = 0\n",
    "\n",
    "    return adj_mat\n"
   ]
  },
  {
   "cell_type": "code",
   "execution_count": null,
   "metadata": {},
   "outputs": [],
   "source": [
    "estimated_skeleton_stable = pc_stable(pc_data, confidence_level, 0)\n"
   ]
  },
  {
   "cell_type": "code",
   "execution_count": null,
   "metadata": {},
   "outputs": [],
   "source": [
    "G_stable = nx.from_numpy_matrix(estimated_skeleton_stable)\n",
    "nx.draw(G_stable)\n",
    "plt.show()"
   ]
  },
  {
   "cell_type": "code",
   "execution_count": null,
   "metadata": {},
   "outputs": [],
   "source": [
    "np.count_nonzero(estimated_skeleton_stable)"
   ]
  },
  {
   "cell_type": "code",
   "execution_count": null,
   "metadata": {},
   "outputs": [],
   "source": [
    "def generate_random_graph(\n",
    "    number_of_nodes, back_edge_probability, forward_edge_probability\n",
    "):\n",
    "    adj_mat = np.diag([1 for i in range(number_of_nodes)])\n",
    "    for i, j in permutations(range(number_of_nodes), 2):\n",
    "        if i < j:\n",
    "            if np.random.binomial(1, forward_edge_probability):\n",
    "                adj_mat[i, j] = 1\n",
    "        else:\n",
    "            if np.random.binomial(1, back_edge_probability):\n",
    "                adj_mat[i, j] = 1\n",
    "\n",
    "    data = np.zeros((500, number_of_nodes))\n",
    "    \n",
    "    for sample in range(500):\n",
    "        noise = np.random.normal(scale=3, size=number_of_nodes)\n",
    "        for i in range(number_of_nodes):\n",
    "            data[sample, i] += np.sum(noise[:i+1] * adj_mat[:i+1, i])\n",
    "\n",
    "    return adj_mat, data\n"
   ]
  },
  {
   "cell_type": "code",
   "execution_count": null,
   "metadata": {},
   "outputs": [],
   "source": [
    "adj_mat, data = generate_random_graph(20, 0.2, 0.5)"
   ]
  },
  {
   "cell_type": "code",
   "execution_count": null,
   "metadata": {},
   "outputs": [],
   "source": [
    "data[:10,0]"
   ]
  },
  {
   "cell_type": "code",
   "execution_count": null,
   "metadata": {},
   "outputs": [],
   "source": [
    "results = []\n",
    "for trial in range(50):\n",
    "    adj_mat, data = generate_random_graph(20, 0.2, 0.5)\n",
    "    adj_mat -= np.diag([1 for i in range(20)])\n",
    "    for conf_lvl in [2 ** i / 100 for i in range(-4, 3)]:\n",
    "        est_skel_pop = pc_pop(data, conf_lvl, 1)\n",
    "        est_skel_stable = pc_stable(data, conf_lvl, 1)\n",
    "#         print(f\"The original graph has {np.count_nonzero(adj_mat)} edges.\")\n",
    "#         print(\n",
    "#             f\"The estimated skeleton computed by pc-pop algorithm has {np.count_nonzero(est_skel_pop)}\"\n",
    "#         )\n",
    "#         print(\n",
    "#             f\"The estimated skeleton computed by pc-stable algorithm has {np.count_nonzero(est_skel_stable)}\"\n",
    "#         )\n",
    "        recall_pop = np.sum(np.multiply(adj_mat, est_skel_pop)) / np.count_nonzero(adj_mat)\n",
    "        missing_pop = np.sum(adj_mat - est_skel_pop) / np.count_nonzero(adj_mat)\n",
    "        \n",
    "        recall_stable = np.sum(np.multiply(adj_mat, est_skel_stable)) / np.count_nonzero(adj_mat)\n",
    "        missing_stable = np.sum(adj_mat - est_skel_stable) / np.count_nonzero(adj_mat)\n",
    "        \n",
    "        print(f'Trial #{trial}: Confidence level: {conf_lvl}, PC-Pop Recall: {recall_pop}, PC-Pop Missing: {missing_pop}, PC-Stable Recall: {recall_stable}, PC-Stable Missing: {missing_stable}')\n",
    "        results.append((conf_lvl, recall_pop, missing_pop, recall_stable, missing_stable))\n"
   ]
  },
  {
   "cell_type": "code",
   "execution_count": null,
   "metadata": {},
   "outputs": [],
   "source": []
  },
  {
   "cell_type": "code",
   "execution_count": null,
   "metadata": {},
   "outputs": [],
   "source": []
  }
 ],
 "metadata": {
  "kernelspec": {
   "display_name": "Python 3",
   "language": "python",
   "name": "python3"
  },
  "language_info": {
   "codemirror_mode": {
    "name": "ipython",
    "version": 3
   },
   "file_extension": ".py",
   "mimetype": "text/x-python",
   "name": "python",
   "nbconvert_exporter": "python",
   "pygments_lexer": "ipython3",
   "version": "3.6.6"
  }
 },
 "nbformat": 4,
 "nbformat_minor": 2
}
