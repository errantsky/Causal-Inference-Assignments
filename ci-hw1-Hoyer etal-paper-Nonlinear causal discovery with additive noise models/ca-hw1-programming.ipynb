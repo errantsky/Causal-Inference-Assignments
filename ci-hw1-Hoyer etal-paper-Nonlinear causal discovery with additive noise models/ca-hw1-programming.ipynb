{
 "cells": [
  {
   "cell_type": "markdown",
   "metadata": {},
   "source": [
    "# Causal Inference \n",
    "## Programming Exercise 1\n",
    "### Sepehr Torab Parhiz, 93100774\n",
    "\n",
    "This notebook was developed with Python 3.7"
   ]
  },
  {
   "cell_type": "code",
   "execution_count": 1,
   "metadata": {},
   "outputs": [],
   "source": [
    "import numpy as np\n",
    "from sklearn.svm import SVR\n",
    "from hsic import hsic_gam\n",
    "import seaborn as sns\n",
    "import pandas as pd\n",
    "from matplotlib import pyplot as plt"
   ]
  },
  {
   "cell_type": "markdown",
   "metadata": {},
   "source": [
    "# Q1\n",
    "## a)\n",
    "\n",
    "First, the SCM is implemented as a lambda expression that evaluates to Y."
   ]
  },
  {
   "cell_type": "code",
   "execution_count": 2,
   "metadata": {},
   "outputs": [],
   "source": [
    "Y = lambda x, N, b, q: x + b * x ** 3 + np.sign(N) * np.abs(N) ** q\n"
   ]
  },
  {
   "cell_type": "markdown",
   "metadata": {},
   "source": [
    "Each of the X and N are sampled a million times from a standard normal distribution.\n",
    "Then, Ys are computed for a linear and a nonlinear model by changing the value of b."
   ]
  },
  {
   "cell_type": "code",
   "execution_count": 3,
   "metadata": {},
   "outputs": [],
   "source": [
    "X_samples = np.random.normal(0, 1, 1000000)\n",
    "N_samples = np.random.normal(0, 1, 1000000)\n",
    "\n",
    "Y_samples_linear = np.array(\n",
    "    list(\n",
    "        map(\n",
    "            Y,\n",
    "            X_samples,\n",
    "            N_samples,\n",
    "            [0 for i in range(1000000)],\n",
    "            [1 for j in range(1000000)],\n",
    "        )\n",
    "    )\n",
    ")\n",
    "Y_samples_nonlinear = np.array(\n",
    "    list(\n",
    "        map(\n",
    "            Y,\n",
    "            X_samples,\n",
    "            N_samples,\n",
    "            [1 for i in range(1000000)],\n",
    "            [1 for j in range(1000000)],\n",
    "        )\n",
    "    )\n",
    ")\n"
   ]
  },
  {
   "cell_type": "code",
   "execution_count": 4,
   "metadata": {},
   "outputs": [],
   "source": [
    "data_linear = pd.DataFrame({'x': X_samples, 'y-linear': Y_samples_linear})\n",
    "data_nonlinear = pd.DataFrame({'x': X_samples, 'y-nonlinear': Y_samples_nonlinear})\n"
   ]
  },
  {
   "cell_type": "markdown",
   "metadata": {},
   "source": [
    "### Joint probability plots of the linear and nonlinear models."
   ]
  },
  {
   "cell_type": "code",
   "execution_count": 43,
   "metadata": {},
   "outputs": [
    {
     "name": "stderr",
     "output_type": "stream",
     "text": [
      "/Users/septp/.virtualenvs/sci/lib/python3.7/site-packages/scipy/stats/stats.py:1713: FutureWarning: Using a non-tuple sequence for multidimensional indexing is deprecated; use `arr[tuple(seq)]` instead of `arr[seq]`. In the future this will be interpreted as an array index, `arr[np.array(seq)]`, which will result either in an error or a different result.\n",
      "  return np.add.reduce(sorted[indexer] * weights, axis=axis) / sumval\n"
     ]
    },
    {
     "data": {
      "text/plain": [
       "<seaborn.axisgrid.JointGrid at 0x124acba20>"
      ]
     },
     "execution_count": 43,
     "metadata": {},
     "output_type": "execute_result"
    },
    {
     "data": {
      "image/png": "[encoded data removed]",
      "text/plain": [
       "<Figure size 432x432 with 3 Axes>"
      ]
     },
     "metadata": {
      "needs_background": "light"
     },
     "output_type": "display_data"
    }
   ],
   "source": [
    "sns.jointplot(x='x', y='y-linear', data=data_linear)\n"
   ]
  },
  {
   "cell_type": "code",
   "execution_count": 6,
   "metadata": {},
   "outputs": [
    {
     "name": "stderr",
     "output_type": "stream",
     "text": [
      "/Users/septp/.virtualenvs/sci/lib/python3.7/site-packages/scipy/stats/stats.py:1713: FutureWarning: Using a non-tuple sequence for multidimensional indexing is deprecated; use `arr[tuple(seq)]` instead of `arr[seq]`. In the future this will be interpreted as an array index, `arr[np.array(seq)]`, which will result either in an error or a different result.\n",
      "  return np.add.reduce(sorted[indexer] * weights, axis=axis) / sumval\n"
     ]
    },
    {
     "data": {
      "text/plain": [
       "<seaborn.axisgrid.JointGrid at 0x11954ac50>"
      ]
     },
     "execution_count": 6,
     "metadata": {},
     "output_type": "execute_result"
    },
    {
     "data": {
      "image/png": "[encoded data removed]",
      "text/plain": [
       "<Figure size 432x432 with 3 Axes>"
      ]
     },
     "metadata": {
      "needs_background": "light"
     },
     "output_type": "display_data"
    }
   ],
   "source": [
    "sns.jointplot(x='x', y='y-nonlinear', data=data_nonlinear)"
   ]
  },
  {
   "cell_type": "markdown",
   "metadata": {},
   "source": [
    "### Conditional probability plots\n",
    "To find conditional probabilities, I set the values of X and Y to -1, 0, and 1 for $P(Y|X)$ and $P(X|Y)$. Then, the data points that are close to these conditioning values are chosen."
   ]
  },
  {
   "cell_type": "code",
   "execution_count": 7,
   "metadata": {},
   "outputs": [],
   "source": [
    "# Linear\n",
    "yl_xeq0 = Y_samples_linear[np.abs(X_samples - 0) < 1e-4]\n",
    "yl_xeq1 = Y_samples_linear[np.abs(X_samples - 1) < 1e-4]\n",
    "yl_xeqm1 = Y_samples_linear[np.abs(X_samples + 1) < 1e-4]\n",
    "\n",
    "x_yleq0 = X_samples[np.abs(Y_samples_linear - 0) < 1e-4]\n",
    "x_yleq1 = X_samples[np.abs(Y_samples_linear - 1) < 1e-4]\n",
    "x_yleqm1 = X_samples[np.abs(Y_samples_linear + 1) < 1e-4]\n",
    "\n",
    "# Nonlinear\n",
    "ynl_xeq0 = Y_samples_nonlinear[np.abs(X_samples - 0) < 1e-4]\n",
    "ynl_xeq1 = Y_samples_nonlinear[np.abs(X_samples - 1) < 1e-4]\n",
    "ynl_xeqm1 = Y_samples_nonlinear[np.abs(X_samples + 1) < 1e-4]\n",
    "\n",
    "x_ynleq0 = X_samples[np.abs(Y_samples_nonlinear - 0) < 1e-4]\n",
    "x_ynleq1 = X_samples[np.abs(Y_samples_nonlinear - 1) < 1e-4]\n",
    "x_ynleqm1 = X_samples[np.abs(Y_samples_nonlinear + 1) < 1e-4]\n",
    "\n",
    "\n"
   ]
  },
  {
   "cell_type": "code",
   "execution_count": 45,
   "metadata": {},
   "outputs": [
    {
     "name": "stderr",
     "output_type": "stream",
     "text": [
      "/Users/septp/.virtualenvs/sci/lib/python3.7/site-packages/scipy/stats/stats.py:1713: FutureWarning: Using a non-tuple sequence for multidimensional indexing is deprecated; use `arr[tuple(seq)]` instead of `arr[seq]`. In the future this will be interpreted as an array index, `arr[np.array(seq)]`, which will result either in an error or a different result.\n",
      "  return np.add.reduce(sorted[indexer] * weights, axis=axis) / sumval\n"
     ]
    },
    {
     "data": {
      "text/plain": [
       "Text(0.5, 1.0, 'P(X|Y)')"
      ]
     },
     "execution_count": 45,
     "metadata": {},
     "output_type": "execute_result"
    },
    {
     "data": {
      "image/png": "[encoded data removed]",
      "text/plain": [
       "<Figure size 432x288 with 2 Axes>"
      ]
     },
     "metadata": {
      "needs_background": "light"
     },
     "output_type": "display_data"
    }
   ],
   "source": [
    "fig, ax =plt.subplots(1,2)\n",
    "sns.distplot(yl_xeq0, ax=ax[0])\n",
    "sns.distplot(yl_xeq1, ax=ax[0])\n",
    "sns.distplot(yl_xeqm1, axlabel='y-linear', ax=ax[0])\n",
    "ax[0].set_title('P(Y|X)')\n",
    "\n",
    "sns.distplot(x_yleq0, ax=ax[1])\n",
    "sns.distplot(x_yleq1, ax=ax[1])\n",
    "sns.distplot(x_yleqm1, axlabel='x', ax=ax[1])\n",
    "ax[1].set_title('P(X|Y)')\n",
    "\n"
   ]
  },
  {
   "cell_type": "code",
   "execution_count": 47,
   "metadata": {},
   "outputs": [
    {
     "name": "stderr",
     "output_type": "stream",
     "text": [
      "/Users/septp/.virtualenvs/sci/lib/python3.7/site-packages/scipy/stats/stats.py:1713: FutureWarning: Using a non-tuple sequence for multidimensional indexing is deprecated; use `arr[tuple(seq)]` instead of `arr[seq]`. In the future this will be interpreted as an array index, `arr[np.array(seq)]`, which will result either in an error or a different result.\n",
      "  return np.add.reduce(sorted[indexer] * weights, axis=axis) / sumval\n"
     ]
    },
    {
     "data": {
      "text/plain": [
       "Text(0.5, 1.0, 'P(X|Y)')"
      ]
     },
     "execution_count": 47,
     "metadata": {},
     "output_type": "execute_result"
    },
    {
     "data": {
      "image/png": "[encoded data removed]",
      "text/plain": [
       "<Figure size 432x288 with 2 Axes>"
      ]
     },
     "metadata": {
      "needs_background": "light"
     },
     "output_type": "display_data"
    }
   ],
   "source": [
    "fig, ax =plt.subplots(1,2)\n",
    "sns.distplot(ynl_xeq0, ax=ax[0])\n",
    "sns.distplot(ynl_xeq1, ax=ax[0])\n",
    "sns.distplot(ynl_xeqm1, axlabel='y-nonlinear', ax=ax[0])\n",
    "ax[0].set_title('P(Y|X)')\n",
    "\n",
    "sns.distplot(x_ynleq0, ax=ax[1])\n",
    "sns.distplot(x_ynleq1, ax=ax[1])\n",
    "sns.distplot(x_ynleqm1, axlabel='x', ax=ax[1])\n",
    "ax[1].set_title('P(X|Y)')\n",
    "\n",
    "# fig.show()"
   ]
  },
  {
   "cell_type": "markdown",
   "metadata": {},
   "source": [
    "# Q1\n",
    "## b)\n",
    "Attention: this part can take a long time to compute as I am testing for 150 different configurations of b and q.\n"
   ]
  },
  {
   "cell_type": "code",
   "execution_count": 10,
   "metadata": {},
   "outputs": [],
   "source": [
    "b_samples = np.linspace(-1, 1, 15)\n",
    "q_samples = np.linspace(0.5, 2, 10)\n",
    "\n",
    "forward_results = []\n",
    "backward_results = []"
   ]
  },
  {
   "cell_type": "markdown",
   "metadata": {},
   "source": [
    "### Testing the X -> Y model\n",
    "For each of the b and q values, the following experiment is repeated 100 times:\n",
    "1. Sample N and X 300 times from a standard normal distribution.\n",
    "2. Find the values of Y according to the SCM.\n",
    "3. Fit an SVR model that predicts Y from X.\n",
    "4. Find the residuals.\n",
    "5. Test if residuals are dependent on X using HSIC. If *test_stat* is exceeds *threshold* independence hypothesis is rejected.\n",
    "\n",
    "For each of the b and q values, the proportion of experiments that were not rejected is stored in *forward_results* along with the values of b and q."
   ]
  },
  {
   "cell_type": "code",
   "execution_count": 11,
   "metadata": {},
   "outputs": [],
   "source": [
    "for b in b_samples:\n",
    "    for q in q_samples:\n",
    "        independence_acceptance_count = 0\n",
    "\n",
    "        for k in range(100):\n",
    "            N_samples = np.random.normal(0, 1, 300)\n",
    "            X_samples = np.random.normal(0, 1, 300).reshape(-1, 1)\n",
    "            Y_samples = np.array(\n",
    "                list(\n",
    "                    map(\n",
    "                        Y,\n",
    "                        X_samples,\n",
    "                        N_samples,\n",
    "                        [b for i in range(300)],\n",
    "                        [q for j in range(300)],\n",
    "                    )\n",
    "                )\n",
    "            ).reshape(-1, 1)\n",
    "            clf = SVR(gamma='auto')\n",
    "            clf.fit(X_samples, np.ravel(Y_samples))\n",
    "\n",
    "            residuals = Y_samples - clf.predict(X_samples).reshape(-1, 1)\n",
    "            test_stat, threshold = hsic_gam(residuals, X_samples, alph=0.02)\n",
    "            \n",
    "            if test_stat <= threshold:\n",
    "                independence_acceptance_count += 1\n",
    "                \n",
    "                \n",
    "        forward_results.append((b, q, independence_acceptance_count/100))\n",
    "        "
   ]
  },
  {
   "cell_type": "markdown",
   "metadata": {},
   "source": [
    "## Testing the Y -> X model\n",
    "Same procedure as above is repeated for the backward model"
   ]
  },
  {
   "cell_type": "code",
   "execution_count": 12,
   "metadata": {},
   "outputs": [],
   "source": [
    "for b in b_samples:\n",
    "    for q in q_samples:\n",
    "        independence_acceptance_count = 0\n",
    "\n",
    "        for k in range(100):\n",
    "            N_samples = np.random.normal(0, 1, 300)\n",
    "            X_samples = np.random.normal(0, 1, 300).reshape(-1, 1)\n",
    "            Y_samples = np.array(\n",
    "                list(\n",
    "                    map(\n",
    "                        Y,\n",
    "                        X_samples,\n",
    "                        N_samples,\n",
    "                        [b for i in range(300)],\n",
    "                        [q for j in range(300)],\n",
    "                    )\n",
    "                )\n",
    "            ).reshape(-1, 1)\n",
    "\n",
    "            clf = SVR(gamma=\"auto\")\n",
    "            clf.fit(Y_samples, np.ravel(X_samples))\n",
    "\n",
    "            residuals = X_samples - clf.predict(Y_samples).reshape(-1, 1)\n",
    "            test_stat, threshold = hsic_gam(residuals, Y_samples, alph=0.02)\n",
    "\n",
    "            if test_stat <= threshold:\n",
    "                independence_acceptance_count += 1\n",
    "\n",
    "        backward_results.append((b, q, independence_acceptance_count / 100))\n",
    "        "
   ]
  },
  {
   "cell_type": "code",
   "execution_count": 13,
   "metadata": {},
   "outputs": [],
   "source": [
    "fw_b0_tuples = np.array([(q, ia) for (b, q, ia) in forward_results if b == 0])\n",
    "fw_q1_tuples = np.array([(b, ia) for (b, q, ia) in forward_results if q == 1])\n",
    "\n",
    "bw_b0_tuples = np.array([(q, ia) for (b, q, ia) in backward_results if b == 0])\n",
    "bw_q1_tuples = np.array([(b, ia) for (b, q, ia) in backward_results if q == 1])\n",
    "\n",
    "fw_b0_data = pd.DataFrame(fw_b0_tuples, columns=[\"q\", \"p-accept\"])\n",
    "fw_q1_data = pd.DataFrame(fw_q1_tuples, columns=[\"b\", \"p-accept\"])\n",
    "\n",
    "bw_b0_data = pd.DataFrame(bw_b0_tuples, columns=[\"q\", \"p-accept\"])\n",
    "bw_q1_data = pd.DataFrame(bw_q1_tuples, columns=[\"b\", \"p-accept\"])\n"
   ]
  },
  {
   "cell_type": "code",
   "execution_count": 48,
   "metadata": {},
   "outputs": [
    {
     "data": {
      "text/plain": [
       "<matplotlib.legend.Legend at 0x11c2fe668>"
      ]
     },
     "execution_count": 48,
     "metadata": {},
     "output_type": "execute_result"
    },
    {
     "data": {
      "image/png": "[encoded data removed]",
      "text/plain": [
       "<Figure size 432x288 with 1 Axes>"
      ]
     },
     "metadata": {
      "needs_background": "light"
     },
     "output_type": "display_data"
    }
   ],
   "source": [
    "ax = sns.lineplot(x='b', y='p-accept', data=fw_q1_data, label='forward')\n",
    "ax = sns.lineplot(x='b', y='p-accept', data=bw_q1_data, label='backward')\n",
    "ax.set_title('q=1')\n",
    "ax.legend()"
   ]
  },
  {
   "cell_type": "code",
   "execution_count": 40,
   "metadata": {},
   "outputs": [
    {
     "data": {
      "text/plain": [
       "Text(0.5, 1.0, 'b=0')"
      ]
     },
     "execution_count": 40,
     "metadata": {},
     "output_type": "execute_result"
    },
    {
     "data": {
      "image/png": "[encoded data removed]",
      "text/plain": [
       "<Figure size 432x288 with 1 Axes>"
      ]
     },
     "metadata": {
      "needs_background": "light"
     },
     "output_type": "display_data"
    }
   ],
   "source": [
    "ax2 = sns.lineplot(x=\"q\", y=\"p-accept\", data=fw_b0_data, label='forward')\n",
    "ax2 = sns.lineplot(x=\"q\", y=\"p-accept\", data=bw_b0_data, label='backward')\n",
    "ax2.set_title('b=0')"
   ]
  },
  {
   "cell_type": "markdown",
   "metadata": {},
   "source": [
    "From the figures above, we can see that nonlinear models and non-gassuian noise helps us differentiate between the forward model which is the true causal model from the backward model."
   ]
  },
  {
   "cell_type": "markdown",
   "metadata": {},
   "source": [
    "# Q1\n",
    "## c)\n",
    "Same procedure as part b is repeated to find the true causal model."
   ]
  },
  {
   "cell_type": "markdown",
   "metadata": {},
   "source": [
    "## Old Faithful"
   ]
  },
  {
   "cell_type": "code",
   "execution_count": 16,
   "metadata": {},
   "outputs": [],
   "source": [
    "faithful = np.loadtxt(\"faithful.txt\", skiprows=26)\n",
    "faithful[:5, :]\n",
    "\n",
    "eruption_time = np.array([b for (_, b, _) in faithful])\n",
    "waiting_time = np.array([c for (_, _, c) in faithful])\n"
   ]
  },
  {
   "cell_type": "markdown",
   "metadata": {},
   "source": [
    "### Testing Eruption time -> Waiting time\n"
   ]
  },
  {
   "cell_type": "code",
   "execution_count": 17,
   "metadata": {},
   "outputs": [
    {
     "data": {
      "text/plain": [
       "(0.521355799845298, 0.7878944192763103)"
      ]
     },
     "execution_count": 17,
     "metadata": {},
     "output_type": "execute_result"
    }
   ],
   "source": [
    "\n",
    "clf = SVR(gamma=\"auto\")\n",
    "clf.fit(eruption_time.reshape(-1, 1), waiting_time)\n",
    "\n",
    "residuals = waiting_time - clf.predict(eruption_time.reshape(-1, 1))\n",
    "\n",
    "hsic_gam(residuals.reshape(-1, 1), eruption_time.reshape(-1, 1), alph=0.02)\n"
   ]
  },
  {
   "cell_type": "markdown",
   "metadata": {},
   "source": [
    "*test_stat* is lower than the *threshold*, so the noise is not dependent on eruption time."
   ]
  },
  {
   "cell_type": "markdown",
   "metadata": {},
   "source": [
    "### Testing Waiting time -> Eruption time\n",
    "\n"
   ]
  },
  {
   "cell_type": "code",
   "execution_count": 18,
   "metadata": {},
   "outputs": [
    {
     "data": {
      "text/plain": [
       "(1.603290238583813, 0.6791149151180458)"
      ]
     },
     "execution_count": 18,
     "metadata": {},
     "output_type": "execute_result"
    }
   ],
   "source": [
    "clf = SVR(gamma=\"auto\")\n",
    "clf.fit(waiting_time.reshape(-1, 1), eruption_time)\n",
    "\n",
    "residuals = eruption_time - clf.predict(waiting_time.reshape(-1, 1))\n",
    "\n",
    "hsic_gam(residuals.reshape(-1, 1), waiting_time.reshape(-1, 1), alph=0.02)\n"
   ]
  },
  {
   "cell_type": "markdown",
   "metadata": {},
   "source": [
    "*test_stat* is higher than the *threshold*, so the noise is dependent on eruption time.\n",
    "\n",
    "First model was accepted, while the backward model was rejected. We can state that according to the true causal model, eruption time causes the  waiting time."
   ]
  },
  {
   "cell_type": "markdown",
   "metadata": {},
   "source": [
    "# Abalone"
   ]
  },
  {
   "cell_type": "code",
   "execution_count": 19,
   "metadata": {},
   "outputs": [],
   "source": [
    "column_names = [\n",
    "    \"sex\",\n",
    "    \"length\",\n",
    "    \"diameter\",\n",
    "    \"height\",\n",
    "    \"whole weight\",\n",
    "    \"shucked weight\",\n",
    "    \"viscera weight\",\n",
    "    \"shell weight\",\n",
    "    \"rings\",\n",
    "]\n",
    "abalone = pd.read_csv(\"abalone-data.txt\", names=column_names)\n",
    "shell_lengths = abalone[\"length\"].values\n",
    "ring_counts = abalone[\"rings\"].values\n"
   ]
  },
  {
   "cell_type": "markdown",
   "metadata": {},
   "source": [
    "### Testing Shell length -> Ring counts"
   ]
  },
  {
   "cell_type": "code",
   "execution_count": 20,
   "metadata": {},
   "outputs": [
    {
     "data": {
      "text/plain": [
       "(3.7519056337833527, 0.6332036484250124)"
      ]
     },
     "execution_count": 20,
     "metadata": {},
     "output_type": "execute_result"
    }
   ],
   "source": [
    "clf = SVR(gamma=\"auto\")\n",
    "clf.fit(shell_lengths.reshape(-1, 1), ring_counts)\n",
    "\n",
    "ring_residuals = ring_counts - clf.predict(shell_lengths.reshape(-1, 1))\n",
    "\n",
    "hsic_gam(ring_residuals.reshape(-1, 1), shell_lengths.reshape(-1, 1), alph=0.02)\n"
   ]
  },
  {
   "cell_type": "markdown",
   "metadata": {},
   "source": [
    "### Testing Ring counts -> Shell length"
   ]
  },
  {
   "cell_type": "code",
   "execution_count": 21,
   "metadata": {},
   "outputs": [
    {
     "data": {
      "text/plain": [
       "(5.0560897691140845, 0.6223666073811324)"
      ]
     },
     "execution_count": 21,
     "metadata": {},
     "output_type": "execute_result"
    }
   ],
   "source": [
    "clf = SVR(gamma=\"auto\")\n",
    "clf.fit(ring_counts.reshape(-1, 1), shell_lengths)\n",
    "\n",
    "length_residuals = shell_lengths - clf.predict(ring_counts.reshape(-1, 1))\n",
    "\n",
    "hsic_gam(length_residuals.reshape(-1, 1), ring_counts.reshape(-1, 1), alph=0.02)\n"
   ]
  },
  {
   "cell_type": "markdown",
   "metadata": {},
   "source": [
    "Both independence hypotheses are rejected, so we cannot decisively pick the true causal model.\n"
   ]
  },
  {
   "cell_type": "code",
   "execution_count": 22,
   "metadata": {},
   "outputs": [],
   "source": [
    "# Plotting residuals\n",
    "# sns.scatterplot(\n",
    "#     x=\"Ring counts\",\n",
    "#     y=\"residuals\",\n",
    "#     data=pd.DataFrame({\"Ring counts\": ring_counts, \"residuals\": length_residuals}),\n",
    "# )\n"
   ]
  },
  {
   "cell_type": "code",
   "execution_count": 23,
   "metadata": {},
   "outputs": [],
   "source": [
    "# sns.scatterplot(\n",
    "#     x=\"shell length\",\n",
    "#     y=\"residuals\",\n",
    "#     data=pd.DataFrame({\"shell length\": shell_lengths, \"residuals\": ring_residuals}),\n",
    "# )\n"
   ]
  },
  {
   "cell_type": "markdown",
   "metadata": {},
   "source": [
    "# Q2\n",
    "I use an adjacency matrix to model the DAG. (i, j) entry of the matrix is one if there is a directed edge from i to j. \n",
    "\n",
    "Row number is mapped to the variables as follows: {0: 'w', 1: 'x', 2: 'y', 3: 'z'}"
   ]
  },
  {
   "cell_type": "code",
   "execution_count": 24,
   "metadata": {},
   "outputs": [
    {
     "data": {
      "text/html": [
       "<div>\n",
       "<style scoped>\n",
       "    .dataframe tbody tr th:only-of-type {\n",
       "        vertical-align: middle;\n",
       "    }\n",
       "\n",
       "    .dataframe tbody tr th {\n",
       "        vertical-align: top;\n",
       "    }\n",
       "\n",
       "    .dataframe thead th {\n",
       "        text-align: right;\n",
       "    }\n",
       "</style>\n",
       "<table border=\"1\" class=\"dataframe\">\n",
       "  <thead>\n",
       "    <tr style=\"text-align: right;\">\n",
       "      <th></th>\n",
       "      <th>w</th>\n",
       "      <th>x</th>\n",
       "      <th>y</th>\n",
       "      <th>z</th>\n",
       "    </tr>\n",
       "  </thead>\n",
       "  <tbody>\n",
       "    <tr>\n",
       "      <th>0</th>\n",
       "      <td>-1.494550</td>\n",
       "      <td>1.759289</td>\n",
       "      <td>5.141853</td>\n",
       "      <td>-0.394895</td>\n",
       "    </tr>\n",
       "    <tr>\n",
       "      <th>1</th>\n",
       "      <td>-2.294998</td>\n",
       "      <td>5.233398</td>\n",
       "      <td>6.630356</td>\n",
       "      <td>-1.865369</td>\n",
       "    </tr>\n",
       "    <tr>\n",
       "      <th>2</th>\n",
       "      <td>-2.300008</td>\n",
       "      <td>5.325657</td>\n",
       "      <td>6.046011</td>\n",
       "      <td>-2.310479</td>\n",
       "    </tr>\n",
       "    <tr>\n",
       "      <th>3</th>\n",
       "      <td>2.036510</td>\n",
       "      <td>4.013274</td>\n",
       "      <td>5.679255</td>\n",
       "      <td>-2.106526</td>\n",
       "    </tr>\n",
       "    <tr>\n",
       "      <th>4</th>\n",
       "      <td>-1.794607</td>\n",
       "      <td>2.602814</td>\n",
       "      <td>5.029331</td>\n",
       "      <td>-0.340335</td>\n",
       "    </tr>\n",
       "  </tbody>\n",
       "</table>\n",
       "</div>"
      ],
      "text/plain": [
       "          w         x         y         z\n",
       "0 -1.494550  1.759289  5.141853 -0.394895\n",
       "1 -2.294998  5.233398  6.630356 -1.865369\n",
       "2 -2.300008  5.325657  6.046011 -2.310479\n",
       "3  2.036510  4.013274  5.679255 -2.106526\n",
       "4 -1.794607  2.602814  5.029331 -0.340335"
      ]
     },
     "execution_count": 24,
     "metadata": {},
     "output_type": "execute_result"
    }
   ],
   "source": [
    "# Q2\n",
    "dag_data = pd.read_csv(\"dag.csv\")\n",
    "dag_data = dag_data.drop(labels=[\"Unnamed: 0\"], axis=1)\n",
    "dag_data.head()\n"
   ]
  },
  {
   "cell_type": "code",
   "execution_count": 25,
   "metadata": {},
   "outputs": [],
   "source": [
    "# w, x, y, z\n",
    "nodes_dict = {0: \"w\", 1: \"x\", 2: \"y\", 3: \"z\"}\n",
    "good_dags = []\n"
   ]
  },
  {
   "cell_type": "markdown",
   "metadata": {},
   "source": [
    "Every possible DAG is tried. After assigning the directions in each DAG, each node is checked as follows. \n",
    "\n",
    "First, the parents of the node are found by checking the respective column of the node for elements that are one in the adjacency matrix. Then, a SVR trained to regress the node from data of it's parents. Next, residuals are computed and a HSIC test is run to test if independence hypothesis is rejected or not. If the HSIC test rejects, *check_nodes* returns False and the current DAG is discarded. If none of the tests fail for a DAG, *check_nodes* returns True and that DAG is added to the good_dags list.\n",
    "\n",
    "It can be seen that the only DAG that is not rejected is the one where W is the parent of X and Y, and Z is the child of X and Y.\n",
    "\n"
   ]
  },
  {
   "cell_type": "code",
   "execution_count": 49,
   "metadata": {},
   "outputs": [],
   "source": [
    "def check_nodes():\n",
    "#     print(adjacency_matrix)\n",
    "    for i in range(4):\n",
    "        parents_inds = np.nonzero(adjacency_matrix[:, i])[0]\n",
    "        if parents_inds.shape[0] != 0:\n",
    "            parents_names = []\n",
    "            for parent_ind in parents_inds:\n",
    "                parents_names.append(nodes_dict[parent_ind])\n",
    "\n",
    "            parents_data = dag_data[parents_names].values\n",
    "            node_data = dag_data[nodes_dict[i]].values\n",
    "\n",
    "            clf = SVR(gamma=\"auto\")\n",
    "            clf.fit(parents_data, node_data)\n",
    "\n",
    "            residuals = node_data.reshape(-1, 1) - clf.predict(parents_data).reshape(\n",
    "                -1, 1\n",
    "            )\n",
    "            test_stat, threshold = hsic_gam(residuals, parents_data, alph=0.02)\n",
    "\n",
    "            if test_stat > threshold:\n",
    "                return False\n",
    "\n",
    "    return True\n"
   ]
  },
  {
   "cell_type": "code",
   "execution_count": 50,
   "metadata": {},
   "outputs": [],
   "source": [
    "for wx in [(0, 1), (1, 0)]:\n",
    "    for wy in [(0, 2), (2, 0)]:\n",
    "        for yz in [(2, 3), (3, 2)]:\n",
    "            for xz in [(1, 3), (3, 1)]:\n",
    "                adjacency_matrix = np.zeros((4, 4))\n",
    "                adjacency_matrix[wx] = 1\n",
    "                adjacency_matrix[wy] = 1\n",
    "                adjacency_matrix[xz] = 1\n",
    "                adjacency_matrix[yz] = 1\n",
    "\n",
    "                flag = check_nodes()\n",
    "                if flag is True:\n",
    "                    good_dags.append((wx, wy, yz, xz))\n"
   ]
  },
  {
   "cell_type": "code",
   "execution_count": 51,
   "metadata": {},
   "outputs": [
    {
     "data": {
      "text/plain": [
       "[((0, 1), (0, 2), (2, 3), (1, 3)), ((0, 1), (0, 2), (2, 3), (1, 3))]"
      ]
     },
     "execution_count": 51,
     "metadata": {},
     "output_type": "execute_result"
    }
   ],
   "source": [
    "good_dags"
   ]
  },
  {
   "cell_type": "code",
   "execution_count": 52,
   "metadata": {},
   "outputs": [
    {
     "data": {
      "text/html": [
       "<div>\n",
       "<style scoped>\n",
       "    .dataframe tbody tr th:only-of-type {\n",
       "        vertical-align: middle;\n",
       "    }\n",
       "\n",
       "    .dataframe tbody tr th {\n",
       "        vertical-align: top;\n",
       "    }\n",
       "\n",
       "    .dataframe thead th {\n",
       "        text-align: right;\n",
       "    }\n",
       "</style>\n",
       "<table border=\"1\" class=\"dataframe\">\n",
       "  <thead>\n",
       "    <tr style=\"text-align: right;\">\n",
       "      <th></th>\n",
       "      <th>w</th>\n",
       "      <th>x</th>\n",
       "      <th>y</th>\n",
       "      <th>z</th>\n",
       "    </tr>\n",
       "  </thead>\n",
       "  <tbody>\n",
       "    <tr>\n",
       "      <th>0</th>\n",
       "      <td>0.0</td>\n",
       "      <td>1.0</td>\n",
       "      <td>1.0</td>\n",
       "      <td>0.0</td>\n",
       "    </tr>\n",
       "    <tr>\n",
       "      <th>1</th>\n",
       "      <td>0.0</td>\n",
       "      <td>0.0</td>\n",
       "      <td>0.0</td>\n",
       "      <td>1.0</td>\n",
       "    </tr>\n",
       "    <tr>\n",
       "      <th>2</th>\n",
       "      <td>0.0</td>\n",
       "      <td>0.0</td>\n",
       "      <td>0.0</td>\n",
       "      <td>1.0</td>\n",
       "    </tr>\n",
       "    <tr>\n",
       "      <th>3</th>\n",
       "      <td>0.0</td>\n",
       "      <td>0.0</td>\n",
       "      <td>0.0</td>\n",
       "      <td>0.0</td>\n",
       "    </tr>\n",
       "  </tbody>\n",
       "</table>\n",
       "</div>"
      ],
      "text/plain": [
       "     w    x    y    z\n",
       "0  0.0  1.0  1.0  0.0\n",
       "1  0.0  0.0  0.0  1.0\n",
       "2  0.0  0.0  0.0  1.0\n",
       "3  0.0  0.0  0.0  0.0"
      ]
     },
     "execution_count": 52,
     "metadata": {},
     "output_type": "execute_result"
    }
   ],
   "source": [
    "a = good_dags[0]\n",
    "adj = np.zeros((4, 4))\n",
    "for tu in a:\n",
    "    adj[tu] = 1\n",
    "pd.DataFrame(adj, columns=['w', 'x', 'y', 'z'])"
   ]
  },
  {
   "cell_type": "markdown",
   "metadata": {},
   "source": [
    "The matrix above shows the directions of the true causal model.\n",
    "w -> x\n",
    "\n",
    "w -> y\n",
    "\n",
    "x -> z\n",
    "\n",
    "y -> z\n"
   ]
  },
  {
   "cell_type": "code",
   "execution_count": null,
   "metadata": {},
   "outputs": [],
   "source": []
  }
 ],
 "metadata": {
  "kernelspec": {
   "display_name": "Python 3",
   "language": "python",
   "name": "python3"
  },
  "language_info": {
   "codemirror_mode": {
    "name": "ipython",
    "version": 3
   },
   "file_extension": ".py",
   "mimetype": "text/x-python",
   "name": "python",
   "nbconvert_exporter": "python",
   "pygments_lexer": "ipython3",
   "version": "3.7.0"
  }
 },
 "nbformat": 4,
 "nbformat_minor": 2
}
